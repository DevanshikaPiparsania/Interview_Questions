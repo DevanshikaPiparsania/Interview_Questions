{
  "nbformat": 4,
  "nbformat_minor": 0,
  "metadata": {
    "colab": {
      "provenance": [],
      "authorship_tag": "ABX9TyPlbpwVgJPUIDsvEzagGTAP",
      "include_colab_link": true
    },
    "kernelspec": {
      "name": "python3",
      "display_name": "Python 3"
    },
    "language_info": {
      "name": "python"
    }
  },
  "cells": [
    {
      "cell_type": "markdown",
      "metadata": {
        "id": "view-in-github",
        "colab_type": "text"
      },
      "source": [
        "<a href=\"https://colab.research.google.com/github/DevanshikaPiparsania/Interview_Questions/blob/main/Transfer_Excel_Data_to_Another.ipynb\" target=\"_parent\"><img src=\"https://colab.research.google.com/assets/colab-badge.svg\" alt=\"Open In Colab\"/></a>"
      ]
    },
    {
      "cell_type": "markdown",
      "source": [
        "Write a code to fetch data from one excel sheet and dump into the other excel sheet ?"
      ],
      "metadata": {
        "id": "aAHL6W4V3UXx"
      }
    },
    {
      "cell_type": "markdown",
      "source": [
        "Python script using the openpyxl library to read data from one Excel sheet and write it into another Excel sheet. You can install the library using pip install openpyxl if you haven't already."
      ],
      "metadata": {
        "id": "zct12TFx3bO3"
      }
    },
    {
      "cell_type": "code",
      "execution_count": 1,
      "metadata": {
        "colab": {
          "base_uri": "https://localhost:8080/"
        },
        "id": "P1VZazXVvWpS",
        "outputId": "8a3b0340-d9c1-4672-bb51-2e02ab0cf069"
      },
      "outputs": [
        {
          "output_type": "stream",
          "name": "stdout",
          "text": [
            "Requirement already satisfied: openpyxl in /usr/local/lib/python3.10/dist-packages (3.1.5)\n",
            "Requirement already satisfied: et-xmlfile in /usr/local/lib/python3.10/dist-packages (from openpyxl) (2.0.0)\n"
          ]
        }
      ],
      "source": [
        "pip install openpyxl\n"
      ]
    },
    {
      "cell_type": "code",
      "source": [
        "import openpyxl\n",
        "\n",
        "def transfer_excel_data(source_file, source_sheet, target_file, target_sheet):\n",
        "    try:\n",
        "        # Load the source workbook and sheet\n",
        "        source_wb = openpyxl.load_workbook(source_file)\n",
        "        source_ws = source_wb[source_sheet]\n",
        "\n",
        "        # Load or create the target workbook and sheet\n",
        "        try:\n",
        "            target_wb = openpyxl.load_workbook(target_file)\n",
        "            if target_sheet in target_wb.sheetnames:\n",
        "                target_ws = target_wb[target_sheet]\n",
        "            else:\n",
        "                target_ws = target_wb.create_sheet(target_sheet)\n",
        "        except FileNotFoundError:\n",
        "            target_wb = openpyxl.Workbook()\n",
        "            target_ws = target_wb.active\n",
        "            target_ws.title = target_sheet\n",
        "\n",
        "        # Copy data from source to target\n",
        "        for row in source_ws.iter_rows(values_only=True):\n",
        "            target_ws.append(row)\n",
        "\n",
        "        # Save the target workbook\n",
        "        target_wb.save(target_file)\n",
        "        print(f\"Data successfully transferred from '{source_file}' to '{target_file}'.\")\n",
        "\n",
        "    except Exception as e:\n",
        "        print(f\"An error occurred: {e}\")\n",
        "\n",
        "# Example usage\n",
        "source_file = \"/content/sample_data/source.xlsx\"      # Replace with your source file path\n",
        "source_sheet = \"Sheet1\"          # Replace with your source sheet name\n",
        "target_file = \"/content/sample_data/targtet.xlsx\"    # Replace with your target file path\n",
        "target_sheet = \"Sheet1\"          # Replace with your target sheet name\n",
        "\n",
        "transfer_excel_data(source_file, source_sheet, target_file, target_sheet)\n"
      ],
      "metadata": {
        "colab": {
          "base_uri": "https://localhost:8080/"
        },
        "id": "4QcSC7DhvrXJ",
        "outputId": "dc6e5a5c-79a2-42a9-edbd-e6238242366b"
      },
      "execution_count": 4,
      "outputs": [
        {
          "output_type": "stream",
          "name": "stdout",
          "text": [
            "Data successfully transferred from '/content/sample_data/source.xlsx' to '/content/sample_data/targtet.xlsx'.\n"
          ]
        }
      ]
    },
    {
      "cell_type": "markdown",
      "source": [
        "EXPLAINATION:"
      ],
      "metadata": {
        "id": "Js4pjPEc2vfo"
      }
    },
    {
      "cell_type": "markdown",
      "source": [
        "\n",
        "1. Source Workbook: The script loads the source workbook and accesses the specified sheet.\n",
        "2. Target Workbook:\n",
        "If the file exists, it loads the workbook and checks for the sheet. If the sheet does not exist, it creates a new one.\n",
        "If the file does not exist, it creates a new workbook and names the active sheet.\n",
        "3. Data Transfer: The script reads rows from the source sheet and appends them to the target sheet.\n",
        "4. Save Target Workbook: The changes are saved to the specified target file.\n"
      ],
      "metadata": {
        "id": "fBu1RlHE2n89"
      }
    },
    {
      "cell_type": "markdown",
      "source": [
        "REQUIREMENTS"
      ],
      "metadata": {
        "id": "z3_wXPRX22YX"
      }
    },
    {
      "cell_type": "markdown",
      "source": [
        "\n",
        "\n",
        "1.   Ensure source.xlsx and target.xlsx paths are correct.\n",
        "2.   The openpyxl library must be installed.\n"
      ],
      "metadata": {
        "id": "vLbS5KsR27zn"
      }
    }
  ]
}